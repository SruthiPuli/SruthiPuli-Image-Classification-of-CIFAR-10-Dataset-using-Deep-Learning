{
  "nbformat": 4,
  "nbformat_minor": 0,
  "metadata": {
    "colab": {
      "provenance": [],
      "authorship_tag": "ABX9TyPQuqZ3DUxPFVn9M0yTA7/R",
      "include_colab_link": true
    },
    "kernelspec": {
      "name": "python3",
      "display_name": "Python 3"
    },
    "language_info": {
      "name": "python"
    }
  },
  "cells": [
    {
      "cell_type": "markdown",
      "metadata": {
        "id": "view-in-github",
        "colab_type": "text"
      },
      "source": [
        "<a href=\"https://colab.research.google.com/github/SruthiPuli/SruthiPuli-Image-Classification-of-CIFAR-10-Dataset-using-Deep-Learning/blob/main/CIFAR10.ipynb\" target=\"_parent\"><img src=\"https://colab.research.google.com/assets/colab-badge.svg\" alt=\"Open In Colab\"/></a>"
      ]
    },
    {
      "cell_type": "code",
      "execution_count": null,
      "metadata": {
        "id": "nCp9drEK78yr"
      },
      "outputs": [],
      "source": [
        "import torch\n",
        "import torch.nn as nn\n",
        "import torch.optim as optim\n",
        "import torch.nn.functional as F\n",
        "import torchvision\n",
        "import torchvision.transforms as transforms\n",
        "from torch.utils.data import DataLoader\n",
        "import matplotlib.pyplot as plt\n",
        "from PIL import Image"
      ]
    },
    {
      "cell_type": "code",
      "source": [
        "# Data Preparation\n",
        "\n",
        "transform_train = transforms.Compose([\n",
        "    transforms.RandomCrop(32, padding = 4),\n",
        "    transforms.RandomHorizontalFlip(),\n",
        "    transforms.RandomRotation(15),\n",
        "    transforms.ToTensor(),\n",
        "    transforms.Normalize((0.4914, 0.4822, 0.4465),\n",
        "                         (0.2023, 0.1994, 0.2010)),\n",
        "])\n",
        "\n",
        "transform_test = transforms.Compose([\n",
        "    transforms.ToTensor(),\n",
        "    transforms.Normalize((0.4914, 0.4822, 0.4465),\n",
        "                         (0.2023, 0.1994, 0.2010)),\n",
        "])\n",
        "\n",
        "transform_PIL_image = transforms.Compose([\n",
        "    transforms.ToPILImage(),\n",
        "])\n"
      ],
      "metadata": {
        "id": "VJzyWBeN8TmD"
      },
      "execution_count": null,
      "outputs": []
    },
    {
      "cell_type": "code",
      "source": [
        "# Dataset Download\n",
        "\n",
        "train_set = torchvision.datasets.CIFAR10(root = './data', train = True, download = True, transform = transform_train)\n",
        "test_set = torchvision.datasets.CIFAR10(root = './data', train = False, download = True, transform = transform_test)\n",
        "\n",
        "# DataLoader\n",
        "\n",
        "train_loader = DataLoader(train_set, batch_size = 128, shuffle = True, num_workers = 2)\n",
        "test_loader = DataLoader(test_set, batch_size = 128, shuffle = False, num_workers = 2)"
      ],
      "metadata": {
        "id": "hu-RyORY9fmr"
      },
      "execution_count": null,
      "outputs": []
    },
    {
      "cell_type": "code",
      "source": [
        "# output classes\n",
        "\n",
        "print(f'Output Classes are : f{train_set.classes}')"
      ],
      "metadata": {
        "id": "qbdl-I2PMjUe",
        "colab": {
          "base_uri": "https://localhost:8080/"
        },
        "outputId": "de3b3d24-44cf-450d-dc73-23201b9dbab0"
      },
      "execution_count": null,
      "outputs": [
        {
          "output_type": "stream",
          "name": "stdout",
          "text": [
            "Output Classes are : f['airplane', 'automobile', 'bird', 'cat', 'deer', 'dog', 'frog', 'horse', 'ship', 'truck']\n"
          ]
        }
      ]
    },
    {
      "cell_type": "code",
      "source": [
        "# Download Trainset to view the images\n",
        "\n",
        "dataset = torchvision.datasets.CIFAR10(root='./data', train=True, download=True, transform=transforms.ToTensor())"
      ],
      "metadata": {
        "id": "jjztAdeGzY0F"
      },
      "execution_count": null,
      "outputs": []
    },
    {
      "cell_type": "code",
      "source": [
        "# Output images\n",
        "\n",
        "print('Class Images')\n",
        "\n",
        "fig, axes = plt.subplots(1, 10)\n",
        "fig.set_size_inches(15, 3)\n",
        "\n",
        "\n",
        "for i in range(10) :\n",
        "    for image, label in dataset :\n",
        "        if(label == i) :\n",
        "            axes[i].imshow(transform_PIL_image(image))\n",
        "            axes[i].axis('off')\n",
        "            axes[i].set_title(dataset.classes[i])\n",
        "            break\n",
        "\n",
        "plt.show()\n"
      ],
      "metadata": {
        "id": "bYs9WHNZNEhK",
        "colab": {
          "base_uri": "https://localhost:8080/",
          "height": 167
        },
        "outputId": "14d776d8-285d-4039-bf74-ade018cd0010"
      },
      "execution_count": null,
      "outputs": [
        {
          "output_type": "stream",
          "name": "stdout",
          "text": [
            "Class Images\n"
          ]
        },
        {
          "output_type": "display_data",
          "data": {
            "text/plain": [
              "<Figure size 1500x300 with 10 Axes>"
            ],
            "image/png": "[encoded data removed]"
          },
          "metadata": {}
        }
      ]
    },
    {
      "cell_type": "code",
      "source": [
        "# CNN Model\n",
        "\n",
        "class CIFAR10_CNN(nn.Module) :\n",
        "\n",
        "    def __init__(self) :\n",
        "\n",
        "        super().__init__()\n",
        "\n",
        "        self.conv1 = nn.Conv2d(in_channels = 3, out_channels = 64, kernel_size = (3, 3), padding = 1)\n",
        "        self.norm1 = nn.BatchNorm2d(num_features = 64)\n",
        "\n",
        "        self.conv2 = nn.Conv2d(in_channels = 64, out_channels = 128, kernel_size = (3, 3), padding = 1)\n",
        "        self.norm2 = nn.BatchNorm2d(num_features = 128)\n",
        "\n",
        "        self.conv3 = nn.Conv2d(in_channels = 128, out_channels = 256, kernel_size = (3, 3), padding = 1)\n",
        "        self.norm3 = nn.BatchNorm2d(num_features = 256)\n",
        "\n",
        "        self.conv4 = nn.Conv2d(in_channels = 256, out_channels = 512, kernel_size = (3, 3), padding = 1)\n",
        "        self.norm4 = nn.BatchNorm2d(num_features = 512)\n",
        "\n",
        "        self.pool = nn.MaxPool2d(kernel_size = (2, 2))\n",
        "        self.flatten = nn.Flatten()\n",
        "\n",
        "        self.fc1 = nn.Linear(in_features = 512 * 8 * 8, out_features = 1024)\n",
        "        self.fc_norm1 = nn.BatchNorm1d(num_features = 1024)\n",
        "\n",
        "        self.fc2 = nn.Linear(in_features = 1024, out_features = 256)\n",
        "        self.fc_norm2 = nn.BatchNorm1d(num_features = 256)\n",
        "        self.fc3 = nn.Linear(in_features = 256, out_features = 10)\n",
        "\n",
        "        self.relu = nn.ReLU()\n",
        "        self.leaky = nn.LeakyReLU()\n",
        "        self.drop = nn.Dropout(0.5)\n",
        "\n",
        "\n",
        "    def forward(self, x) :\n",
        "\n",
        "        x = self.relu(self.norm1(self.conv1(x)))\n",
        "        x = self.relu(self.norm2(self.conv2(x)))\n",
        "        x = self.pool(x)\n",
        "\n",
        "        x = self.relu(self.norm3(self.conv3(x)))\n",
        "        x = self.relu(self.norm4(self.conv4(x)))\n",
        "        x = self.pool(x)\n",
        "\n",
        "        x = self.flatten(x)\n",
        "\n",
        "        x = self.leaky(self.fc_norm1(self.fc1(x)))\n",
        "        x = self.drop(x)\n",
        "        x = self.leaky(self.fc_norm2(self.fc2(x)))\n",
        "\n",
        "        x = self.fc3(x)\n",
        "\n",
        "        return x\n",
        "\n",
        "\n"
      ],
      "metadata": {
        "id": "8Yt99Lgr-iug"
      },
      "execution_count": null,
      "outputs": []
    },
    {
      "cell_type": "code",
      "source": [
        "# device type\n",
        "\n",
        "device = torch.device('cuda' if torch.cuda.is_available() else 'cpu')\n",
        "print('Device type is ', device)\n"
      ],
      "metadata": {
        "id": "DJtdG9U-Ia6L",
        "colab": {
          "base_uri": "https://localhost:8080/"
        },
        "outputId": "2d9bb53f-dcbb-4936-c7a0-9c13f73da232"
      },
      "execution_count": null,
      "outputs": [
        {
          "output_type": "stream",
          "name": "stdout",
          "text": [
            "Device type is  cuda\n"
          ]
        }
      ]
    },
    {
      "cell_type": "code",
      "source": [
        "# Model Instance\n",
        "\n",
        "cifar10_model = CIFAR10_CNN()\n",
        "cifar10_model.to(device)\n"
      ],
      "metadata": {
        "id": "VS9A4h2XHSRf",
        "colab": {
          "base_uri": "https://localhost:8080/"
        },
        "outputId": "15528096-7aa8-465b-8e66-b37a88ccd8e4"
      },
      "execution_count": null,
      "outputs": [
        {
          "output_type": "execute_result",
          "data": {
            "text/plain": [
              "CIFAR10_CNN(\n",
              "  (conv1): Conv2d(3, 64, kernel_size=(3, 3), stride=(1, 1), padding=(1, 1))\n",
              "  (norm1): BatchNorm2d(64, eps=1e-05, momentum=0.1, affine=True, track_running_stats=True)\n",
              "  (conv2): Conv2d(64, 128, kernel_size=(3, 3), stride=(1, 1), padding=(1, 1))\n",
              "  (norm2): BatchNorm2d(128, eps=1e-05, momentum=0.1, affine=True, track_running_stats=True)\n",
              "  (conv3): Conv2d(128, 256, kernel_size=(3, 3), stride=(1, 1), padding=(1, 1))\n",
              "  (norm3): BatchNorm2d(256, eps=1e-05, momentum=0.1, affine=True, track_running_stats=True)\n",
              "  (conv4): Conv2d(256, 512, kernel_size=(3, 3), stride=(1, 1), padding=(1, 1))\n",
              "  (norm4): BatchNorm2d(512, eps=1e-05, momentum=0.1, affine=True, track_running_stats=True)\n",
              "  (pool): MaxPool2d(kernel_size=(2, 2), stride=(2, 2), padding=0, dilation=1, ceil_mode=False)\n",
              "  (flatten): Flatten(start_dim=1, end_dim=-1)\n",
              "  (fc1): Linear(in_features=32768, out_features=1024, bias=True)\n",
              "  (fc_norm1): BatchNorm1d(1024, eps=1e-05, momentum=0.1, affine=True, track_running_stats=True)\n",
              "  (fc2): Linear(in_features=1024, out_features=256, bias=True)\n",
              "  (fc_norm2): BatchNorm1d(256, eps=1e-05, momentum=0.1, affine=True, track_running_stats=True)\n",
              "  (fc3): Linear(in_features=256, out_features=10, bias=True)\n",
              "  (relu): ReLU()\n",
              "  (leaky): LeakyReLU(negative_slope=0.01)\n",
              "  (drop): Dropout(p=0.5, inplace=False)\n",
              ")"
            ]
          },
          "metadata": {},
          "execution_count": 31
        }
      ]
    },
    {
      "cell_type": "code",
      "source": [
        "# Loss and Optimizer\n",
        "\n",
        "criterion = nn.CrossEntropyLoss()\n",
        "optimizer = optim.Adam(cifar10_model.parameters(), lr = 0.001, weight_decay = 1e-4)\n",
        "scheduler = optim.lr_scheduler.StepLR(optimizer, step_size = 20, gamma = 0.5)"
      ],
      "metadata": {
        "id": "rdgMNlIsI9r-"
      },
      "execution_count": null,
      "outputs": []
    },
    {
      "cell_type": "code",
      "source": [
        "# Model Training\n",
        "\n",
        "Epochs = 150\n",
        "\n",
        "for epoch in range(Epochs) :\n",
        "\n",
        "    cifar10_model.train()\n",
        "\n",
        "    running_loss = 0.0\n",
        "\n",
        "    for images, labels in train_loader :\n",
        "\n",
        "        images, labels = images.to(device), labels.to(device)\n",
        "\n",
        "        optimizer.zero_grad()\n",
        "\n",
        "        outputs = cifar10_model(images)\n",
        "        loss = criterion(outputs, labels)\n",
        "\n",
        "        loss.backward()\n",
        "        optimizer.step()\n",
        "\n",
        "        running_loss += loss.item()\n",
        "\n",
        "    scheduler.step()\n",
        "\n",
        "    cifar10_model.eval()\n",
        "\n",
        "    correct , total = 0, 0\n",
        "\n",
        "    with torch.no_grad() :\n",
        "\n",
        "        for images, labels in test_loader :\n",
        "\n",
        "            images, labels = images.to(device) , labels.to(device)\n",
        "\n",
        "            outputs = cifar10_model(images)\n",
        "\n",
        "            _, predicted = torch.max(outputs.data, 1)\n",
        "\n",
        "            total += labels.size(0)\n",
        "\n",
        "            correct += (predicted == labels).sum().item()\n",
        "\n",
        "\n",
        "    accuracy = 100 * correct / total\n",
        "\n",
        "    print(f'Epoch [{epoch+1} / {Epochs}], Loss : {running_loss/len(train_loader):.4f}, Test Accuracy : {accuracy:.2f}%')\n",
        "\n",
        "print('Model training is Completed')\n",
        "\n"
      ],
      "metadata": {
        "id": "4WIt-tM7JnFN",
        "colab": {
          "base_uri": "https://localhost:8080/"
        },
        "outputId": "7799cb25-0b33-4a77-f239-f308d6a71913"
      },
      "execution_count": null,
      "outputs": [
        {
          "output_type": "stream",
          "name": "stdout",
          "text": [
            "Epoch [1 / 150], Loss : 1.3588, Test Accuracy : 64.24%\n",
            "Epoch [2 / 150], Loss : 1.0143, Test Accuracy : 65.22%\n",
            "Epoch [3 / 150], Loss : 0.8945, Test Accuracy : 73.69%\n",
            "Epoch [4 / 150], Loss : 0.8237, Test Accuracy : 74.34%\n",
            "Epoch [5 / 150], Loss : 0.7706, Test Accuracy : 77.23%\n",
            "Epoch [6 / 150], Loss : 0.7281, Test Accuracy : 78.38%\n",
            "Epoch [7 / 150], Loss : 0.6899, Test Accuracy : 78.24%\n",
            "Epoch [8 / 150], Loss : 0.6613, Test Accuracy : 81.64%\n",
            "Epoch [9 / 150], Loss : 0.6281, Test Accuracy : 79.90%\n",
            "Epoch [10 / 150], Loss : 0.5995, Test Accuracy : 81.06%\n",
            "Epoch [11 / 150], Loss : 0.5750, Test Accuracy : 82.86%\n",
            "Epoch [12 / 150], Loss : 0.5584, Test Accuracy : 84.99%\n",
            "Epoch [13 / 150], Loss : 0.5283, Test Accuracy : 83.82%\n",
            "Epoch [14 / 150], Loss : 0.5150, Test Accuracy : 83.58%\n",
            "Epoch [15 / 150], Loss : 0.4951, Test Accuracy : 85.78%\n",
            "Epoch [16 / 150], Loss : 0.4836, Test Accuracy : 85.97%\n",
            "Epoch [17 / 150], Loss : 0.4676, Test Accuracy : 84.40%\n",
            "Epoch [18 / 150], Loss : 0.4513, Test Accuracy : 86.89%\n",
            "Epoch [19 / 150], Loss : 0.4467, Test Accuracy : 87.12%\n",
            "Epoch [20 / 150], Loss : 0.4336, Test Accuracy : 85.98%\n",
            "Epoch [21 / 150], Loss : 0.3560, Test Accuracy : 88.73%\n",
            "Epoch [22 / 150], Loss : 0.3278, Test Accuracy : 89.63%\n",
            "Epoch [23 / 150], Loss : 0.3181, Test Accuracy : 89.10%\n",
            "Epoch [24 / 150], Loss : 0.3097, Test Accuracy : 89.06%\n",
            "Epoch [25 / 150], Loss : 0.2979, Test Accuracy : 88.62%\n",
            "Epoch [26 / 150], Loss : 0.2953, Test Accuracy : 89.17%\n",
            "Epoch [27 / 150], Loss : 0.2888, Test Accuracy : 88.58%\n",
            "Epoch [28 / 150], Loss : 0.2889, Test Accuracy : 89.67%\n",
            "Epoch [29 / 150], Loss : 0.2772, Test Accuracy : 89.49%\n",
            "Epoch [30 / 150], Loss : 0.2720, Test Accuracy : 89.47%\n",
            "Epoch [31 / 150], Loss : 0.2670, Test Accuracy : 89.23%\n",
            "Epoch [32 / 150], Loss : 0.2610, Test Accuracy : 89.79%\n",
            "Epoch [33 / 150], Loss : 0.2605, Test Accuracy : 88.49%\n",
            "Epoch [34 / 150], Loss : 0.2558, Test Accuracy : 89.64%\n",
            "Epoch [35 / 150], Loss : 0.2517, Test Accuracy : 89.61%\n",
            "Epoch [36 / 150], Loss : 0.2483, Test Accuracy : 89.55%\n",
            "Epoch [37 / 150], Loss : 0.2459, Test Accuracy : 88.83%\n",
            "Epoch [38 / 150], Loss : 0.2402, Test Accuracy : 89.51%\n",
            "Epoch [39 / 150], Loss : 0.2393, Test Accuracy : 89.65%\n",
            "Epoch [40 / 150], Loss : 0.2351, Test Accuracy : 89.28%\n",
            "Epoch [41 / 150], Loss : 0.1953, Test Accuracy : 90.55%\n",
            "Epoch [42 / 150], Loss : 0.1771, Test Accuracy : 91.09%\n",
            "Epoch [43 / 150], Loss : 0.1723, Test Accuracy : 91.02%\n",
            "Epoch [44 / 150], Loss : 0.1631, Test Accuracy : 90.68%\n",
            "Epoch [45 / 150], Loss : 0.1580, Test Accuracy : 90.73%\n",
            "Epoch [46 / 150], Loss : 0.1550, Test Accuracy : 90.58%\n",
            "Epoch [47 / 150], Loss : 0.1539, Test Accuracy : 90.61%\n",
            "Epoch [48 / 150], Loss : 0.1479, Test Accuracy : 90.49%\n",
            "Epoch [49 / 150], Loss : 0.1441, Test Accuracy : 91.09%\n",
            "Epoch [50 / 150], Loss : 0.1455, Test Accuracy : 91.08%\n",
            "Epoch [51 / 150], Loss : 0.1444, Test Accuracy : 90.96%\n",
            "Epoch [52 / 150], Loss : 0.1405, Test Accuracy : 90.76%\n",
            "Epoch [53 / 150], Loss : 0.1387, Test Accuracy : 90.67%\n",
            "Epoch [54 / 150], Loss : 0.1358, Test Accuracy : 90.87%\n",
            "Epoch [55 / 150], Loss : 0.1347, Test Accuracy : 91.09%\n",
            "Epoch [56 / 150], Loss : 0.1322, Test Accuracy : 90.97%\n",
            "Epoch [57 / 150], Loss : 0.1327, Test Accuracy : 91.19%\n",
            "Epoch [58 / 150], Loss : 0.1306, Test Accuracy : 91.02%\n",
            "Epoch [59 / 150], Loss : 0.1306, Test Accuracy : 90.90%\n",
            "Epoch [60 / 150], Loss : 0.1289, Test Accuracy : 90.72%\n",
            "Epoch [61 / 150], Loss : 0.1067, Test Accuracy : 91.28%\n",
            "Epoch [62 / 150], Loss : 0.0995, Test Accuracy : 91.50%\n",
            "Epoch [63 / 150], Loss : 0.0961, Test Accuracy : 91.51%\n",
            "Epoch [64 / 150], Loss : 0.0904, Test Accuracy : 91.54%\n",
            "Epoch [65 / 150], Loss : 0.0884, Test Accuracy : 91.56%\n",
            "Epoch [66 / 150], Loss : 0.0865, Test Accuracy : 91.70%\n",
            "Epoch [67 / 150], Loss : 0.0864, Test Accuracy : 91.47%\n",
            "Epoch [68 / 150], Loss : 0.0840, Test Accuracy : 91.58%\n",
            "Epoch [69 / 150], Loss : 0.0842, Test Accuracy : 91.38%\n",
            "Epoch [70 / 150], Loss : 0.0838, Test Accuracy : 91.27%\n",
            "Epoch [71 / 150], Loss : 0.0790, Test Accuracy : 91.36%\n",
            "Epoch [72 / 150], Loss : 0.0803, Test Accuracy : 91.64%\n",
            "Epoch [73 / 150], Loss : 0.0782, Test Accuracy : 91.43%\n",
            "Epoch [74 / 150], Loss : 0.0760, Test Accuracy : 91.31%\n",
            "Epoch [75 / 150], Loss : 0.0760, Test Accuracy : 91.35%\n",
            "Epoch [76 / 150], Loss : 0.0731, Test Accuracy : 91.16%\n",
            "Epoch [77 / 150], Loss : 0.0768, Test Accuracy : 91.38%\n",
            "Epoch [78 / 150], Loss : 0.0743, Test Accuracy : 91.24%\n",
            "Epoch [79 / 150], Loss : 0.0730, Test Accuracy : 91.37%\n",
            "Epoch [80 / 150], Loss : 0.0734, Test Accuracy : 90.99%\n",
            "Epoch [81 / 150], Loss : 0.0676, Test Accuracy : 91.54%\n",
            "Epoch [82 / 150], Loss : 0.0609, Test Accuracy : 91.61%\n",
            "Epoch [83 / 150], Loss : 0.0598, Test Accuracy : 91.57%\n",
            "Epoch [84 / 150], Loss : 0.0574, Test Accuracy : 91.33%\n",
            "Epoch [85 / 150], Loss : 0.0565, Test Accuracy : 91.64%\n",
            "Epoch [86 / 150], Loss : 0.0539, Test Accuracy : 91.58%\n",
            "Epoch [87 / 150], Loss : 0.0533, Test Accuracy : 91.69%\n",
            "Epoch [88 / 150], Loss : 0.0498, Test Accuracy : 91.41%\n",
            "Epoch [89 / 150], Loss : 0.0504, Test Accuracy : 91.56%\n",
            "Epoch [90 / 150], Loss : 0.0495, Test Accuracy : 91.50%\n",
            "Epoch [91 / 150], Loss : 0.0503, Test Accuracy : 91.59%\n",
            "Epoch [92 / 150], Loss : 0.0494, Test Accuracy : 91.55%\n",
            "Epoch [93 / 150], Loss : 0.0495, Test Accuracy : 91.46%\n",
            "Epoch [94 / 150], Loss : 0.0466, Test Accuracy : 91.45%\n",
            "Epoch [95 / 150], Loss : 0.0458, Test Accuracy : 91.50%\n",
            "Epoch [96 / 150], Loss : 0.0482, Test Accuracy : 91.63%\n",
            "Epoch [97 / 150], Loss : 0.0456, Test Accuracy : 91.55%\n",
            "Epoch [98 / 150], Loss : 0.0468, Test Accuracy : 91.84%\n",
            "Epoch [99 / 150], Loss : 0.0471, Test Accuracy : 91.58%\n",
            "Epoch [100 / 150], Loss : 0.0469, Test Accuracy : 91.66%\n",
            "Epoch [101 / 150], Loss : 0.0406, Test Accuracy : 91.92%\n",
            "Epoch [102 / 150], Loss : 0.0402, Test Accuracy : 91.79%\n",
            "Epoch [103 / 150], Loss : 0.0391, Test Accuracy : 91.93%\n",
            "Epoch [104 / 150], Loss : 0.0381, Test Accuracy : 91.95%\n",
            "Epoch [105 / 150], Loss : 0.0396, Test Accuracy : 91.84%\n",
            "Epoch [106 / 150], Loss : 0.0363, Test Accuracy : 91.95%\n",
            "Epoch [107 / 150], Loss : 0.0377, Test Accuracy : 91.93%\n",
            "Epoch [108 / 150], Loss : 0.0358, Test Accuracy : 92.02%\n",
            "Epoch [109 / 150], Loss : 0.0352, Test Accuracy : 92.06%\n",
            "Epoch [110 / 150], Loss : 0.0365, Test Accuracy : 91.92%\n",
            "Epoch [111 / 150], Loss : 0.0355, Test Accuracy : 92.14%\n",
            "Epoch [112 / 150], Loss : 0.0342, Test Accuracy : 91.84%\n",
            "Epoch [113 / 150], Loss : 0.0339, Test Accuracy : 91.96%\n",
            "Epoch [114 / 150], Loss : 0.0344, Test Accuracy : 91.78%\n",
            "Epoch [115 / 150], Loss : 0.0346, Test Accuracy : 91.78%\n",
            "Epoch [116 / 150], Loss : 0.0331, Test Accuracy : 91.83%\n",
            "Epoch [117 / 150], Loss : 0.0330, Test Accuracy : 91.88%\n",
            "Epoch [118 / 150], Loss : 0.0343, Test Accuracy : 91.88%\n",
            "Epoch [119 / 150], Loss : 0.0335, Test Accuracy : 91.84%\n",
            "Epoch [120 / 150], Loss : 0.0337, Test Accuracy : 91.91%\n",
            "Epoch [121 / 150], Loss : 0.0320, Test Accuracy : 91.94%\n",
            "Epoch [122 / 150], Loss : 0.0290, Test Accuracy : 92.03%\n",
            "Epoch [123 / 150], Loss : 0.0303, Test Accuracy : 92.02%\n",
            "Epoch [124 / 150], Loss : 0.0286, Test Accuracy : 91.99%\n",
            "Epoch [125 / 150], Loss : 0.0285, Test Accuracy : 91.85%\n",
            "Epoch [126 / 150], Loss : 0.0285, Test Accuracy : 92.02%\n",
            "Epoch [127 / 150], Loss : 0.0280, Test Accuracy : 91.92%\n",
            "Epoch [128 / 150], Loss : 0.0279, Test Accuracy : 91.83%\n",
            "Epoch [129 / 150], Loss : 0.0293, Test Accuracy : 92.02%\n",
            "Epoch [130 / 150], Loss : 0.0289, Test Accuracy : 91.94%\n",
            "Epoch [131 / 150], Loss : 0.0288, Test Accuracy : 92.10%\n",
            "Epoch [132 / 150], Loss : 0.0280, Test Accuracy : 91.90%\n",
            "Epoch [133 / 150], Loss : 0.0286, Test Accuracy : 92.06%\n",
            "Epoch [134 / 150], Loss : 0.0274, Test Accuracy : 91.91%\n",
            "Epoch [135 / 150], Loss : 0.0285, Test Accuracy : 91.91%\n",
            "Epoch [136 / 150], Loss : 0.0269, Test Accuracy : 91.95%\n",
            "Epoch [137 / 150], Loss : 0.0259, Test Accuracy : 91.89%\n",
            "Epoch [138 / 150], Loss : 0.0282, Test Accuracy : 91.95%\n",
            "Epoch [139 / 150], Loss : 0.0281, Test Accuracy : 91.89%\n",
            "Epoch [140 / 150], Loss : 0.0276, Test Accuracy : 91.76%\n",
            "Epoch [141 / 150], Loss : 0.0262, Test Accuracy : 91.84%\n",
            "Epoch [142 / 150], Loss : 0.0257, Test Accuracy : 91.84%\n",
            "Epoch [143 / 150], Loss : 0.0250, Test Accuracy : 92.02%\n",
            "Epoch [144 / 150], Loss : 0.0252, Test Accuracy : 91.94%\n",
            "Epoch [145 / 150], Loss : 0.0249, Test Accuracy : 91.84%\n",
            "Epoch [146 / 150], Loss : 0.0249, Test Accuracy : 91.94%\n",
            "Epoch [147 / 150], Loss : 0.0260, Test Accuracy : 91.86%\n",
            "Epoch [148 / 150], Loss : 0.0259, Test Accuracy : 91.86%\n",
            "Epoch [149 / 150], Loss : 0.0250, Test Accuracy : 91.95%\n",
            "Epoch [150 / 150], Loss : 0.0242, Test Accuracy : 91.94%\n",
            "Model training is Completed\n"
          ]
        }
      ]
    },
    {
      "cell_type": "code",
      "source": [
        "# Model Evaluation\n",
        "\n",
        "cifar10_model.eval()\n",
        "\n",
        "correct , total = 0, 0\n",
        "\n",
        "with torch.no_grad() :\n",
        "\n",
        "    for images, labels in test_loader :\n",
        "\n",
        "        images, labels = images.to(device) , labels.to(device)\n",
        "\n",
        "        outputs = cifar10_model(images)\n",
        "\n",
        "        _, predicted = torch.max(outputs.data, 1)\n",
        "\n",
        "        total += labels.size(0)\n",
        "\n",
        "        correct += (predicted == labels).sum().item()\n",
        "\n",
        "\n",
        "accuracy = 100 * correct / total\n",
        "\n",
        "print(f'Test Accuracy : {accuracy:.2f}%')"
      ],
      "metadata": {
        "id": "VmwDuhu0LAPe",
        "colab": {
          "base_uri": "https://localhost:8080/"
        },
        "outputId": "70dcffb5-e898-4b84-90aa-825bd1f5376c"
      },
      "execution_count": null,
      "outputs": [
        {
          "output_type": "stream",
          "name": "stdout",
          "text": [
            "Test Accuracy : 91.94%\n"
          ]
        }
      ]
    },
    {
      "cell_type": "code",
      "source": [
        "# Saving the model\n",
        "\n",
        "torch.save(cifar10_model.state_dict(), 'cifar10_cnn_model.pth')"
      ],
      "metadata": {
        "id": "RyUylrQ-wK8d"
      },
      "execution_count": null,
      "outputs": []
    },
    {
      "cell_type": "code",
      "source": [
        "# Download the model into System\n",
        "\n",
        "from google.colab import files\n",
        "\n",
        "files.download('cifar10_cnn_model.pth')\n",
        "\n",
        "print('Download Completed')"
      ],
      "metadata": {
        "id": "-zEd5mYewu-9",
        "colab": {
          "base_uri": "https://localhost:8080/",
          "height": 34
        },
        "outputId": "b01c4b78-7f9b-4c1b-8878-9784f2b6a3c0"
      },
      "execution_count": null,
      "outputs": [
        {
          "output_type": "display_data",
          "data": {
            "text/plain": [
              "<IPython.core.display.Javascript object>"
            ],
            "application/javascript": [
              "\n",
              "    async function download(id, filename, size) {\n",
              "      if (!google.colab.kernel.accessAllowed) {\n",
              "        return;\n",
              "      }\n",
              "      const div = document.createElement('div');\n",
              "      const label = document.createElement('label');\n",
              "      label.textContent = `Downloading \"${filename}\": `;\n",
              "      div.appendChild(label);\n",
              "      const progress = document.createElement('progress');\n",
              "      progress.max = size;\n",
              "      div.appendChild(progress);\n",
              "      document.body.appendChild(div);\n",
              "\n",
              "      const buffers = [];\n",
              "      let downloaded = 0;\n",
              "\n",
              "      const channel = await google.colab.kernel.comms.open(id);\n",
              "      // Send a message to notify the kernel that we're ready.\n",
              "      channel.send({})\n",
              "\n",
              "      for await (const message of channel.messages) {\n",
              "        // Send a message to notify the kernel that we're ready.\n",
              "        channel.send({})\n",
              "        if (message.buffers) {\n",
              "          for (const buffer of message.buffers) {\n",
              "            buffers.push(buffer);\n",
              "            downloaded += buffer.byteLength;\n",
              "            progress.value = downloaded;\n",
              "          }\n",
              "        }\n",
              "      }\n",
              "      const blob = new Blob(buffers, {type: 'application/binary'});\n",
              "      const a = document.createElement('a');\n",
              "      a.href = window.URL.createObjectURL(blob);\n",
              "      a.download = filename;\n",
              "      div.appendChild(a);\n",
              "      a.click();\n",
              "      div.remove();\n",
              "    }\n",
              "  "
            ]
          },
          "metadata": {}
        },
        {
          "output_type": "display_data",
          "data": {
            "text/plain": [
              "<IPython.core.display.Javascript object>"
            ],
            "application/javascript": [
              "download(\"download_46c1be0d-0fe1-4c2e-b50d-0890256f382c\", \"cifar10_cnn_model.pth\", 141536339)"
            ]
          },
          "metadata": {}
        },
        {
          "output_type": "stream",
          "name": "stdout",
          "text": [
            "Download Completed\n"
          ]
        }
      ]
    },
    {
      "cell_type": "code",
      "source": [],
      "metadata": {
        "id": "int_aUoKrcOR"
      },
      "execution_count": null,
      "outputs": []
    }
  ]
}